{
 "cells": [
  {
   "cell_type": "code",
   "execution_count": 2,
   "metadata": {},
   "outputs": [
    {
     "name": "stderr",
     "output_type": "stream",
     "text": [
      "D:\\Anaconda\\envs\\Tensorflow2\\lib\\site-packages\\sklearn\\cluster\\_kmeans.py:938: FutureWarning: 'n_jobs' was deprecated in version 0.23 and will be removed in 0.25.\n",
      "  warnings.warn(\"'n_jobs' was deprecated in version 0.23 and will be\"\n"
     ]
    },
    {
     "name": "stdout",
     "output_type": "stream",
     "text": [
      "i:0 ACC:0.33000001311302185 Loss:2.5665276050567627\n",
      "i:100 ACC:0.9700000286102295 Loss:0.1816118359565735\n",
      "i:200 ACC:0.9800000190734863 Loss:0.12958024442195892\n",
      "i:300 ACC:0.9833333492279053 Loss:0.10813634097576141\n",
      "i:400 ACC:0.9833333492279053 Loss:0.09560530632734299\n",
      "i:500 ACC:0.9833333492279053 Loss:0.08707475662231445\n"
     ]
    }
   ],
   "source": [
    "import tensorflow as tf\n",
    "import numpy as np\n",
    "import pandas as pd\n",
    "import matplotlib\n",
    "import matplotlib.pyplot as plt\n",
    "data=pd.read_csv(r'C:\\Users\\Windows 10\\.spyder-py3\\信用卡消费.csv')\n",
    "data=np.array(data)\n",
    "data1=data[:,2:6]\n",
    "data2=data[:,7:]\n",
    "data3=np.hstack((data1,data2))\n",
    "data=pd.DataFrame(data3)\n",
    "k=4\n",
    "iteration=500\n",
    "data_zs=1.0*(data-data.mean())/data.std()\n",
    "from sklearn.cluster import KMeans\n",
    "model=KMeans(n_clusters=k,n_jobs=4,max_iter=iteration)\n",
    "model.fit(data_zs)\n",
    "\n",
    "x_train=data_zs\n",
    "y_train=model.labels_\n",
    "num0=len(x_train)\n",
    "x0_train=np.ones(num0).reshape(-1,1)\n",
    "X_train=tf.cast(tf.concat([x0_train,x_train],axis=1),tf.float32)\n",
    "Y_train=tf.one_hot(tf.constant(y_train,dtype=tf.int32),4)\n",
    "r=0.2\n",
    "iter=500\n",
    "step=100\n",
    "np.random.seed(612)\n",
    "w=tf.Variable(np.random.randn(7,4),dtype=tf.float32)\n",
    "acc=[]\n",
    "cce=[]\n",
    "for i in range(0,iter+1):\n",
    "    with tf.GradientTape() as tape:\n",
    "        pred_train=tf.nn.softmax(tf.matmul(X_train,w))\n",
    "        loss_train=-tf.reduce_sum(Y_train*tf.math.log(pred_train))/num0\n",
    "    accuracy=tf.reduce_mean(tf.cast(tf.equal(tf.argmax(pred_train.numpy(),axis=1),y_train),tf.float32))\n",
    "    acc.append(accuracy)\n",
    "    cce.append(loss_train)\n",
    "    dldw=tape.gradient(loss_train,w)\n",
    "    w.assign_sub(r*dldw)\n",
    "    if i%step==0:\n",
    "        print('i:{} ACC:{} Loss:{}'.format(i,accuracy,loss_train))\n",
    "\n"
   ]
  },
  {
   "cell_type": "code",
   "execution_count": 15,
   "metadata": {},
   "outputs": [
    {
     "ename": "TypeError",
     "evalue": "object of type <class 'float'> cannot be safely interpreted as an integer.",
     "output_type": "error",
     "traceback": [
      "\u001b[1;31m---------------------------------------------------------------------------\u001b[0m",
      "\u001b[1;31mTypeError\u001b[0m                                 Traceback (most recent call last)",
      "\u001b[1;32mD:\\Anaconda\\envs\\Tensorflow2\\lib\\site-packages\\numpy\\core\\function_base.py\u001b[0m in \u001b[0;36mlinspace\u001b[1;34m(start, stop, num, endpoint, retstep, dtype, axis)\u001b[0m\n\u001b[0;32m    116\u001b[0m     \u001b[1;32mtry\u001b[0m\u001b[1;33m:\u001b[0m\u001b[1;33m\u001b[0m\u001b[1;33m\u001b[0m\u001b[0m\n\u001b[1;32m--> 117\u001b[1;33m         \u001b[0mnum\u001b[0m \u001b[1;33m=\u001b[0m \u001b[0moperator\u001b[0m\u001b[1;33m.\u001b[0m\u001b[0mindex\u001b[0m\u001b[1;33m(\u001b[0m\u001b[0mnum\u001b[0m\u001b[1;33m)\u001b[0m\u001b[1;33m\u001b[0m\u001b[1;33m\u001b[0m\u001b[0m\n\u001b[0m\u001b[0;32m    118\u001b[0m     \u001b[1;32mexcept\u001b[0m \u001b[0mTypeError\u001b[0m\u001b[1;33m:\u001b[0m\u001b[1;33m\u001b[0m\u001b[1;33m\u001b[0m\u001b[0m\n",
      "\u001b[1;31mTypeError\u001b[0m: 'float' object cannot be interpreted as an integer",
      "\nDuring handling of the above exception, another exception occurred:\n",
      "\u001b[1;31mTypeError\u001b[0m                                 Traceback (most recent call last)",
      "\u001b[1;32m<ipython-input-15-ad927a8329b1>\u001b[0m in \u001b[0;36m<module>\u001b[1;34m\u001b[0m\n\u001b[0;32m      2\u001b[0m \u001b[0mx1_min\u001b[0m\u001b[1;33m,\u001b[0m\u001b[0mx2_min\u001b[0m\u001b[1;33m,\u001b[0m\u001b[0mx3_min\u001b[0m\u001b[1;33m,\u001b[0m\u001b[0mx4_min\u001b[0m\u001b[1;33m,\u001b[0m\u001b[0mx5_min\u001b[0m\u001b[1;33m,\u001b[0m\u001b[0mx6_min\u001b[0m\u001b[1;33m=\u001b[0m\u001b[0mx_train\u001b[0m\u001b[1;33m.\u001b[0m\u001b[0mmin\u001b[0m\u001b[1;33m(\u001b[0m\u001b[0maxis\u001b[0m\u001b[1;33m=\u001b[0m\u001b[1;36m0\u001b[0m\u001b[1;33m)\u001b[0m\u001b[1;33m\u001b[0m\u001b[1;33m\u001b[0m\u001b[0m\n\u001b[0;32m      3\u001b[0m \u001b[0mx1_max\u001b[0m\u001b[1;33m,\u001b[0m\u001b[0mx2_max\u001b[0m\u001b[1;33m,\u001b[0m\u001b[0mx3_max\u001b[0m\u001b[1;33m,\u001b[0m\u001b[0mx4_max\u001b[0m\u001b[1;33m,\u001b[0m\u001b[0mx5_max\u001b[0m\u001b[1;33m,\u001b[0m\u001b[0mx6_max\u001b[0m\u001b[1;33m=\u001b[0m\u001b[0mx_train\u001b[0m\u001b[1;33m.\u001b[0m\u001b[0mmax\u001b[0m\u001b[1;33m(\u001b[0m\u001b[0maxis\u001b[0m\u001b[1;33m=\u001b[0m\u001b[1;36m0\u001b[0m\u001b[1;33m)\u001b[0m\u001b[1;33m\u001b[0m\u001b[1;33m\u001b[0m\u001b[0m\n\u001b[1;32m----> 4\u001b[1;33m \u001b[0mt1\u001b[0m\u001b[1;33m=\u001b[0m\u001b[0mnp\u001b[0m\u001b[1;33m.\u001b[0m\u001b[0mlinspace\u001b[0m\u001b[1;33m(\u001b[0m\u001b[0mx1_min\u001b[0m\u001b[1;33m,\u001b[0m\u001b[0mx2_min\u001b[0m\u001b[1;33m,\u001b[0m\u001b[0mx3_min\u001b[0m\u001b[1;33m,\u001b[0m\u001b[0mx4_min\u001b[0m\u001b[1;33m,\u001b[0m\u001b[0mx5_min\u001b[0m\u001b[1;33m,\u001b[0m\u001b[0mx6_min\u001b[0m\u001b[1;33m,\u001b[0m\u001b[0mM\u001b[0m\u001b[1;33m)\u001b[0m\u001b[1;33m\u001b[0m\u001b[1;33m\u001b[0m\u001b[0m\n\u001b[0m\u001b[0;32m      5\u001b[0m \u001b[0mt2\u001b[0m\u001b[1;33m=\u001b[0m\u001b[0mnp\u001b[0m\u001b[1;33m.\u001b[0m\u001b[0mlinspace\u001b[0m\u001b[1;33m(\u001b[0m\u001b[0mx1_max\u001b[0m\u001b[1;33m,\u001b[0m\u001b[0mx2_max\u001b[0m\u001b[1;33m,\u001b[0m\u001b[0mx3_max\u001b[0m\u001b[1;33m,\u001b[0m\u001b[0mx4_max\u001b[0m\u001b[1;33m,\u001b[0m\u001b[0mx5_max\u001b[0m\u001b[1;33m,\u001b[0m\u001b[0mx6_max\u001b[0m\u001b[1;33m,\u001b[0m\u001b[0mM\u001b[0m\u001b[1;33m)\u001b[0m\u001b[1;33m\u001b[0m\u001b[1;33m\u001b[0m\u001b[0m\n\u001b[0;32m      6\u001b[0m \u001b[0mm1\u001b[0m\u001b[1;33m,\u001b[0m\u001b[0mm2\u001b[0m\u001b[1;33m=\u001b[0m\u001b[0mnp\u001b[0m\u001b[1;33m.\u001b[0m\u001b[0mmeshgrid\u001b[0m\u001b[1;33m(\u001b[0m\u001b[0mt1\u001b[0m\u001b[1;33m,\u001b[0m\u001b[0mt2\u001b[0m\u001b[1;33m)\u001b[0m\u001b[1;33m\u001b[0m\u001b[1;33m\u001b[0m\u001b[0m\n",
      "\u001b[1;32m<__array_function__ internals>\u001b[0m in \u001b[0;36mlinspace\u001b[1;34m(*args, **kwargs)\u001b[0m\n",
      "\u001b[1;32mD:\\Anaconda\\envs\\Tensorflow2\\lib\\site-packages\\numpy\\core\\function_base.py\u001b[0m in \u001b[0;36mlinspace\u001b[1;34m(start, stop, num, endpoint, retstep, dtype, axis)\u001b[0m\n\u001b[0;32m    117\u001b[0m         \u001b[0mnum\u001b[0m \u001b[1;33m=\u001b[0m \u001b[0moperator\u001b[0m\u001b[1;33m.\u001b[0m\u001b[0mindex\u001b[0m\u001b[1;33m(\u001b[0m\u001b[0mnum\u001b[0m\u001b[1;33m)\u001b[0m\u001b[1;33m\u001b[0m\u001b[1;33m\u001b[0m\u001b[0m\n\u001b[0;32m    118\u001b[0m     \u001b[1;32mexcept\u001b[0m \u001b[0mTypeError\u001b[0m\u001b[1;33m:\u001b[0m\u001b[1;33m\u001b[0m\u001b[1;33m\u001b[0m\u001b[0m\n\u001b[1;32m--> 119\u001b[1;33m         raise TypeError(\n\u001b[0m\u001b[0;32m    120\u001b[0m             \u001b[1;34m\"object of type {} cannot be safely interpreted as an integer.\"\u001b[0m\u001b[1;33m\u001b[0m\u001b[1;33m\u001b[0m\u001b[0m\n\u001b[0;32m    121\u001b[0m                 .format(type(num)))\n",
      "\u001b[1;31mTypeError\u001b[0m: object of type <class 'float'> cannot be safely interpreted as an integer."
     ]
    }
   ],
   "source": [
    "M=500\n",
    "x1_min,x2_min,x3_min,x4_min,x5_min,x6_min=x_train.min(axis=0)\n",
    "x1_max,x2_max,x3_max,x4_max,x5_max,x6_max=x_train.max(axis=0)\n",
    "t1=np.linspace(x1_min,x1_max,M)\n",
    "t2=np.linspace(x2_min,x2_max,M)\n",
    "t3=np.linspace(x3_min,x3_max,M)\n",
    "t4=np.linspace(x4_min,x4_max,M)\n",
    "t5=np.linspace(x5_min,x5_max,M)\n",
    "t6=np.linspace(x6_min,x6_max,M)\n",
    "\n",
    "m1,m2=np.meshgrid(t1,t2,t3,t4,t5,t6)\n",
    "m0=np.ones(M*M)\n",
    "x_=tf.cast(np.stack((m0,m1.reshape(-1),m2.reshape(-1)),axis=1),tf.float32)\n",
    "y_=tf.nn.softmax(tf.matmul(x_,w))\n",
    "y_=tf.argmax(y_.numpy(),axis=1)\n",
    "n=tf.reshape(y_,m1.shape)\n",
    "n"
   ]
  },
  {
   "cell_type": "code",
   "execution_count": 3,
   "metadata": {},
   "outputs": [
    {
     "data": {
      "text/plain": [
       "<tf.Variable 'Variable:0' shape=(7, 4) dtype=float32, numpy=\n",
       "array([[-0.09468991, -1.1773902 ,  0.23031323,  0.7562465 ],\n",
       "       [-0.37987837,  0.7909742 , -0.10643273, -0.35645503],\n",
       "       [-2.3779376 ,  0.83046496, -0.61409676,  1.608385  ],\n",
       "       [ 0.7702583 ,  1.8188485 ,  0.5016138 ,  0.08612743],\n",
       "       [-1.2962126 ,  2.1591644 ,  0.26215923, -0.10126474],\n",
       "       [-0.63907546,  2.7891455 , -0.8250853 ,  0.5403278 ],\n",
       "       [ 0.85902363, -0.7661479 , -4.055131  ,  1.3778957 ]],\n",
       "      dtype=float32)>"
      ]
     },
     "execution_count": 3,
     "metadata": {},
     "output_type": "execute_result"
    }
   ],
   "source": [
    "w"
   ]
  },
  {
   "cell_type": "code",
   "execution_count": 25,
   "metadata": {},
   "outputs": [
    {
     "data": {
      "text/plain": [
       "<tf.Tensor: shape=(500, 500), dtype=int64, numpy=\n",
       "array([[0, 0, 0, ..., 1, 1, 1],\n",
       "       [0, 0, 0, ..., 1, 1, 1],\n",
       "       [0, 0, 0, ..., 1, 1, 1],\n",
       "       ...,\n",
       "       [2, 2, 2, ..., 2, 2, 2],\n",
       "       [2, 2, 2, ..., 2, 2, 2],\n",
       "       [2, 2, 2, ..., 2, 2, 2]], dtype=int64)>"
      ]
     },
     "execution_count": 25,
     "metadata": {},
     "output_type": "execute_result"
    }
   ],
   "source": [
    "M=500\n",
    "x1_min,x2_min=x_train.min(axis=0)\n",
    "x1_max,x2_max=x_train.max(axis=0)\n",
    "t1=np.linspace(x1_min,x1_max,M)\n",
    "t2=np.linspace(x2_min,x2_max,M)\n",
    "m1,m2=np.meshgrid(t1,t2)\n",
    "m0=np.ones(M*M)\n",
    "x_=tf.cast(np.stack((m0,m1.reshape(-1),m2.reshape(-1)),axis=1),tf.float32)\n",
    "y_=tf.nn.softmax(tf.matmul(x_,w))\n",
    "y_=tf.argmax(y_.numpy(),axis=1)\n",
    "n=tf.reshape(y_,m1.shape)\n",
    "n\n"
   ]
  },
  {
   "cell_type": "code",
   "execution_count": 30,
   "metadata": {},
   "outputs": [
    {
     "name": "stderr",
     "output_type": "stream",
     "text": [
      "<ipython-input-30-e428d198cbca>:3: MatplotlibDeprecationWarning: shading='flat' when X and Y have the same dimensions as C is deprecated since 3.3.  Either specify the corners of the quadrilaterals with X and Y, or pass shading='auto', 'nearest' or 'gouraud', or set rcParams['pcolor.shading'].  This will become an error two minor releases later.\n",
      "  plt.pcolormesh(m1,m2,n,cmap=cm_bg)\n"
     ]
    },
    {
     "data": {
      "image/png": "[encoded data removed]",
      "text/plain": [
       "<Figure size 576x432 with 1 Axes>"
      ]
     },
     "metadata": {
      "needs_background": "light"
     },
     "output_type": "display_data"
    }
   ],
   "source": [
    "plt.figure(figsize=(8,6))\n",
    "cm_bg=matplotlib.colors.ListedColormap(['#FFB6C1','#DA70D6','#000080'])\n",
    "plt.pcolormesh(m1,m2,n,cmap=cm_bg)\n",
    "plt.scatter(x_train[:,0],x_train[:,1],c=y_train,cmap='brg')\n",
    "plt.show()"
   ]
  },
  {
   "cell_type": "code",
   "execution_count": null,
   "metadata": {},
   "outputs": [],
   "source": []
  },
  {
   "cell_type": "code",
   "execution_count": null,
   "metadata": {},
   "outputs": [],
   "source": []
  },
  {
   "cell_type": "code",
   "execution_count": null,
   "metadata": {},
   "outputs": [],
   "source": []
  },
  {
   "cell_type": "code",
   "execution_count": null,
   "metadata": {},
   "outputs": [],
   "source": []
  }
 ],
 "metadata": {
  "kernelspec": {
   "display_name": "'tensorflow'",
   "language": "python",
   "name": "tensorflow2"
  },
  "language_info": {
   "codemirror_mode": {
    "name": "ipython",
    "version": 3
   },
   "file_extension": ".py",
   "mimetype": "text/x-python",
   "name": "python",
   "nbconvert_exporter": "python",
   "pygments_lexer": "ipython3",
   "version": "3.8.5"
  }
 },
 "nbformat": 4,
 "nbformat_minor": 4
}
